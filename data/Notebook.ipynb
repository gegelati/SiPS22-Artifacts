{
 "cells": [
  {
   "cell_type": "markdown",
   "metadata": {},
   "source": [
    "# Gegelati Code Generation"
   ]
  },
  {
   "cell_type": "markdown",
   "metadata": {},
   "source": [
    "Declare covered Games and platforms"
   ]
  },
  {
   "cell_type": "code",
   "execution_count": null,
   "metadata": {},
   "outputs": [],
   "source": [
    "#global platforms = [\"xeon\", \"xeonSwitch\", \"laptop\", \"laptopSwitch\", \"jetson\", \"jetsonSwitch\", \"rpi2\", \"rpi2Switch\"];\n",
    "global platforms = [\"xeon\", \"laptop\", \"jetson\", \"rpi2\"];\n",
    "#global platforms = [\"xeon\", \"xeonStack\", \"laptop\", \"laptopStack\", \"jetson\", \"jetsonStack\", \"rpi2\" , \"rpi2Stack\"];\n",
    "#global platforms = [\"xeon\", \"xeonStack\"];\n",
    "#global platforms = [\"xeonStack\", \"laptopStack\", \"jetsonStack\", \"rpi2Stack\"];\n",
    "\n",
    "global games = [\"alien\", \"asteroids\", \"centipede\", \"fishing_derby\", \"frostbite\"];\n",
    "\n",
    "global seeds = 0:9\n",
    "\n",
    "global nbRunPerConfig = size(seeds)[1]"
   ]
  },
  {
   "cell_type": "markdown",
   "metadata": {},
   "source": [
    "## Load the database from CSV files."
   ]
  },
  {
   "cell_type": "code",
   "execution_count": null,
   "metadata": {},
   "outputs": [],
   "source": [
    "include(\"results.jl\")"
   ]
  },
  {
   "cell_type": "code",
   "execution_count": null,
   "metadata": {},
   "outputs": [],
   "source": [
    "# Load game stats\n",
    "(dbCodegen, dbTPG) = loadDatabaseFromCsv();\n",
    "println(\"Platforms: $(platforms)\")\n",
    "println(\"Games: $(games)\")\n",
    "println(\"Number of entries in the database (should be $(size(seeds)[1]) * nb_games * nb_platforms): $(size(dbCodegen)[1])\")\n"
   ]
  },
  {
   "cell_type": "markdown",
   "metadata": {},
   "source": [
    "## TPG Stats"
   ]
  },
  {
   "cell_type": "code",
   "execution_count": null,
   "metadata": {},
   "outputs": [],
   "source": [
    "\n",
    "# Load graph stats\n",
    "dbTPGStats = loadTPGStatsDatabase();\n",
    "\n",
    "tpgStats = DataFrame(game=String[], nbTeams=Float64[], nbPrograms=Float64[], linePerProg=Float64[], nbActionPerGame=Float64[], nbTeamExecPerProg=Float64[], nbProgExecPerProg=Float64[])\n",
    "\n",
    "for game in games\n",
    "    entry = [\n",
    "        game,\n",
    "        mean(dbTPGStats[dbTPGStats.game.==game, :nbTeams]),\n",
    "        mean(dbTPGStats[dbTPGStats.game.==game, :nbPrograms]),\n",
    "        mean(dbTPGStats[dbTPGStats.game.==game, :linePerProgram]),\n",
    "        mean(dbCodegen[(dbCodegen.platform.==platforms[1]).&(dbCodegen.game.==game), :actions]),\n",
    "        mean(dbTPGStats[dbTPGStats.game.==game, :nbTeamExec] ./ dbCodegen[(dbCodegen.platform.==platforms[1]).&(dbCodegen.game.==game), :actions]),\n",
    "        mean(dbTPGStats[dbTPGStats.game.==game, :nbProgExec] ./ dbCodegen[(dbCodegen.platform.==platforms[1]).&(dbCodegen.game.==game), :actions])\n",
    "    ]\n",
    "    push!(tpgStats, entry)\n",
    "end\n",
    "\n",
    "tpgVar = DataFrame(game=String[], nbTeams=Float64[], nbPrograms=Float64[], linePerProg=Float64[], nbActionPerGame=Float64[], nbTeamExecPerAction=Float64[], nbProgExecPerAction=Float64[])\n",
    "\n",
    "for game in games\n",
    "    entry = [\n",
    "        game,\n",
    "        100 * std(dbTPGStats[dbTPGStats.game.==game, :nbTeams]) / mean(dbTPGStats[dbTPGStats.game.==game, :nbTeams]),\n",
    "        100 * std(dbTPGStats[dbTPGStats.game.==game, :nbPrograms]) / mean(dbTPGStats[dbTPGStats.game.==game, :nbPrograms]),\n",
    "        100 * std(dbTPGStats[dbTPGStats.game.==game, :linePerProgram]) / mean(dbTPGStats[dbTPGStats.game.==game, :linePerProgram]),\n",
    "        100 * std(dbCodegen[(dbCodegen.platform.==platforms[1]).&(dbCodegen.game.==game), :actions]) / mean(dbCodegen[(dbCodegen.platform.==platforms[1]).&(dbCodegen.game.==game), :actions]),\n",
    "        100 * std(dbTPGStats[dbTPGStats.game.==game, :nbTeamExec] ./ dbCodegen[(dbCodegen.platform.==platforms[1]).&(dbCodegen.game.==game), :actions]) / mean(dbTPGStats[dbTPGStats.game.==game, :nbTeamExec] ./ dbCodegen[(dbCodegen.platform.==platforms[1]).&(dbCodegen.game.==game), :actions]),\n",
    "        100 * std(dbTPGStats[dbTPGStats.game.==game, :nbProgExec] ./ dbCodegen[(dbCodegen.platform.==platforms[1]).&(dbCodegen.game.==game), :actions]) / mean(dbTPGStats[dbTPGStats.game.==game, :nbProgExec] ./ dbCodegen[(dbCodegen.platform.==platforms[1]).&(dbCodegen.game.==game), :actions])\n",
    "    ]\n",
    "    push!(tpgVar, entry)\n",
    "end\n",
    "\n",
    "\n",
    "println(tpgStats)\n",
    "println(tpgVar)"
   ]
  },
  {
   "cell_type": "code",
   "execution_count": null,
   "metadata": {},
   "outputs": [],
   "source": [
    "# Generate Latex file for paper\n",
    "using Printf\n",
    "\n",
    "# Latex print\n",
    "if false\n",
    "    file = open(\"../table_tpg_stats.tex\", \"w\")\n",
    "\n",
    "    println(\n",
    "        file,\n",
    "        \"\\t\\\\begin{tabular}{@{}l|$(join([@sprintf(\"r@{\\\\hspace{0.50\\\\tabcolsep}}l\") for i in 2:7]))@{}}\n",
    "\\t\\tGame          & \\\\multicolumn{2}{c}{Teams} & \\\\multicolumn{2}{c}{Programs} & \\\\multicolumn{2}{c}{Instr. / prog.} & \\\\multicolumn{2}{c}{Actions / game} & \\\\multicolumn{2}{c}{Teams / action} & \\\\multicolumn{2}{c}{Prog. / action} \\\\\\\\\n",
    "\\\\hline\")\n",
    "\n",
    "    for row in 1:size(games)[1]\n",
    "        print(file, \"\\t\\t\\\\texttt{$(replace(tpgStats[row,1], \"_\" => \"\\\\_\"))} \")\n",
    "        for col in 2:7\n",
    "            print(file, \"& $(@sprintf(\"%.2f\", tpgStats[row,col])) & {\\\\scriptsize\\\\textcolor{gray}{\\$\\\\pm\\$ $(@sprintf(\"%.0f\", tpgVar[row,col]))\\\\%}}  \")\n",
    "        end\n",
    "        println(file, \"\\\\\\\\\")\n",
    "    end\n",
    "    println(\n",
    "        file,\n",
    "        \"\\t\\\\end{tabular}\"\n",
    "    )\n",
    "    close(file)\n",
    "end"
   ]
  },
  {
   "cell_type": "markdown",
   "metadata": {},
   "source": [
    "## Average variance"
   ]
  },
  {
   "cell_type": "code",
   "execution_count": null,
   "metadata": {},
   "outputs": [],
   "source": [
    "# Run with all platforms (stack & switch)\n",
    "libVariance = 100 * dbTPG[:, :tpg_time_var] ./ dbTPG[:, :tpg_time]\n",
    "println(\"Max lib: $(maximum(libVariance)), avgLib: $(mean(libVariance))\")\n",
    "libVariance = 100 * dbCodegen[:, :tpg_time_var] ./ dbCodegen[:, :tpg_time]\n",
    "print(\"Max lib: $(maximum(libVariance)), avgLib: $(mean(libVariance))\")"
   ]
  },
  {
   "cell_type": "markdown",
   "metadata": {},
   "source": [
    "## Speedup plot"
   ]
  },
  {
   "cell_type": "code",
   "execution_count": null,
   "metadata": {},
   "outputs": [],
   "source": [
    "dbSpeedup = computeSpeedups(dbCodegen, dbTPG);\n",
    "\n",
    "plotData = reduce(hcat, [dbSpeedup[dbSpeedup.game.==game, :avgSpeedup] for game in games])\n",
    "\n",
    "avgPerPlatform = [[platforms[i], mean(plotData[i, :])] for i in 1:size(platforms)[1]]\n",
    "println(\"Average Speedup per platform: $avgPerPlatform\")\n",
    "\n",
    "print(\"Speedup of asteroids / speedup of fishing derby: $(mean(plotData[:, 2] ./ plotData[:, 4]))\")\n",
    "\n",
    "groupedbar(plotData, xticks=(1:size(platforms)[1], platforms), group=repeat(games, inner=size(platforms)[1]))\n"
   ]
  },
  {
   "cell_type": "code",
   "execution_count": null,
   "metadata": {},
   "outputs": [],
   "source": [
    "using PlotlyJS\n",
    "\n",
    "# Per platform plot\n",
    "# Vector with nbRunPerConfig speedups per platform. \n",
    "# reorder game for displays\n",
    "speedups = [dbTPG[dbTPG.game.==game, :tpg_time] ./ dbCodegen[dbCodegen.game.==game, :tpg_time] for game in games]\n",
    "p = repeat(platforms, inner=nbRunPerConfig)\n",
    "\n",
    "\n",
    "# Save to pdf\n",
    "b = [box(x=p, y=speedups[i], marker_size=2, name=games[i]) for i in 1:(size(games)[1])]\n",
    "layout = Layout(yaxis_title=\"Speedup\", xaxis_title=\"Platforms\", boxmode=\"group\", yaxis_ticksuffix=\"x\", margin=attr(l=0, r=0, b=0, t=0), boxgap=0.2, width=1000, legend=attr(x=0.05, y=0.95,))\n",
    "\n",
    "if false\n",
    "    PlotlyJS.savefig(PlotlyJS.plot(b, layout), \"../fig/speedupPerGamePerPlatform.pdf\", width=500, height=350)\n",
    "end\n",
    "\n",
    "# Do display\n",
    "b = [box(x=p, y=speedups[i], boxpoints=\"all\", marker_size=2, name=games[i]) for i in 1:(size(games)[1])]\n",
    "layout = Layout(yaxis_title=\"Inference speedup of generated code vs library\", xaxis_title=\"Platforms\", boxmode=\"group\", yaxis_ticksuffix=\"x\", margin=attr(l=0, r=10, b=10, t=10), boxgap=0.2, width=1000, legend=attr(x=0.05, y=0.95,))\n",
    "PlotlyJS.plot(b, layout)\n",
    "\n"
   ]
  },
  {
   "cell_type": "code",
   "execution_count": null,
   "metadata": {},
   "outputs": [],
   "source": [
    "using GLM\n",
    "\n",
    "# Formula used for linear regression\n",
    "f = @formula(Y ~ X) # alternative f = @formula(Y ~ X + X^2)\n",
    "\n",
    "# Speedup per platform\n",
    "speedupsPerPlatform = [dbTPG[dbTPG.platform.==platform, :tpg_time] ./ dbCodegen[dbCodegen.platform.==platform, :tpg_time] for platform in platforms]\n",
    "p = repeat(platforms, inner=nbRunPerConfig)\n",
    "\n",
    "# Speedup per platform : time per prog\n",
    "timePerActionCodegen = DataFrame(platform=dbCodegen[:, :platform], seed=dbCodegen[:, :seed], game=dbCodegen[:, :game], time=dbCodegen[:, :tpg_time] ./ dbCodegen[:, :actions])\n",
    "timePerActionTPG = DataFrame(platform=dbTPG[:, :platform], seed=dbTPG[:, :seed], game=dbTPG[:, :game], time=dbTPG[:, :tpg_time] ./ dbTPG[:, :actions])\n",
    "\n",
    "# Get nb program executed per action\n",
    "nbProgExecPerGame = dbTPGStats[:, :nbProgExec]\n",
    "nbActionsPerGame = dbCodegen[1:size(games)[1]*size(seeds)[1], :actions]\n",
    "\n",
    "nbProgExecPerAction = nbProgExecPerGame ./ nbActionsPerGame\n",
    "\n",
    "# Get avg nb line per prog.\n",
    "avgLinePerProg = dbTPGStats[:, :linePerProgram]\n",
    "\n",
    "# Plot 1 : Speedup vs nbActions\n",
    "normalizedActionExecPerGame = nbActionsPerGame ./ maximum(nbActionsPerGame)\n",
    "\n",
    "data1 = [PlotlyJS.scatter(y=speedupsPerPlatform[i], x=normalizedActionExecPerGame, mode=\"markers\", name=\"$(platforms[i])\") for i in 1:size(platforms)[1]]\n",
    "ols = [lm(f, DataFrame(X=normalizedActionExecPerGame, Y=speedupsPerPlatform[i])) for i in 1:size(platforms)[1]]\n",
    "data1x = [[PlotlyJS.scatter(y=predict(ols[idx]), x=normalizedActionExecPerGame, mode=\"lines\", name=\"$(@sprintf(\"%.2f\",coef(ols[idx])[1])) + $(@sprintf(\"%.2f\",coef(ols[idx])[2]))x (R²: $(@sprintf(\"%.2f\",(r2(ols[idx])))))\")] for idx in 1:size(platforms)[1]]\n",
    "\n",
    "plot1 = PlotlyJS.plot(vcat(data1 , data1x...),\n",
    "    Layout(title=\"Speedup = f(nbActionsPerGame)\", xaxis_title=\"nbActions\", yaxis_title=\"Speedups\", width=600)\n",
    ")\n",
    "\n",
    "# Plot 2 : Speedup vs nbProgs\n",
    "normalizedProgExecPerGame = nbProgExecPerGame ./ maximum(nbProgExecPerGame)\n",
    "\n",
    "data2 = [PlotlyJS.scatter(y=speedupsPerPlatform[i], x=normalizedProgExecPerGame, mode=\"markers\", name=\"$(platforms[i])\") for i in 1:size(platforms)[1]]\n",
    "ols = [lm(f, DataFrame(X=normalizedProgExecPerGame, Y=speedupsPerPlatform[i])) for i in 1:size(platforms)[1]]\n",
    "data2x = [[PlotlyJS.scatter(y=predict(ols[idx]), x=normalizedProgExecPerGame, mode=\"lines\", name=\"$(@sprintf(\"%.2f\",coef(ols[idx])[1])) + $(@sprintf(\"%.2f\",coef(ols[idx])[2]))x (R²: $(@sprintf(\"%.2f\",(r2(ols[idx])))))\")] for idx in 1:size(platforms)[1]]\n",
    "\n",
    "plot2 = PlotlyJS.plot(vcat(data2 , data2x...),\n",
    "    Layout(title=\"Speedup = f(NbProgPerGame)\", xaxis_title=\"nbProgs\", yaxis_title=\"Speedups\", width=600)\n",
    ")\n",
    "\n",
    "# Plot 3 : Speedup vs nbLines per Game\n",
    "normalizedLineExecPerGame = (avgLinePerProg .* nbProgExecPerGame) ./ maximum(avgLinePerProg .* nbProgExecPerGame)\n",
    "\n",
    "data3 = [PlotlyJS.scatter(y=speedupsPerPlatform[i], x=normalizedLineExecPerGame, mode=\"markers\", name=\"$(platforms[i])\") for i in 1:size(platforms)[1]]\n",
    "\n",
    "# compute errors linear\n",
    "ols = [lm(f, DataFrame(X=normalizedLineExecPerGame, Y=speedupsPerPlatform[i])) for i in 1:size(platforms)[1]]\n",
    "data3x = [[PlotlyJS.scatter(y=predict(ols[idx]), x=normalizedLineExecPerGame, mode=\"lines\", name=\"$(@sprintf(\"%.2f\",coef(ols[idx])[1])) + $(@sprintf(\"%.2f\",coef(ols[idx])[2]))x (R²: $(@sprintf(\"%.2f\",(r2(ols[idx])))))\")] for idx in 1:size(platforms)[1]]\n",
    "plot3 = PlotlyJS.plot(vcat(data3 , data3x...),\n",
    "    Layout(title=\"Speedup = f(NbLinePerGame)\", xaxis_title=\"nbLines\", yaxis_title=\"Speedups\", width=1200)\n",
    ")\n",
    "\n",
    "\n",
    "[plot1 plot2 plot3]\n"
   ]
  },
  {
   "cell_type": "code",
   "execution_count": null,
   "metadata": {},
   "outputs": [],
   "source": [
    "# Per game plot\n",
    "# Vector with nbRunPerConfig speedups per platform. \n",
    "speedups = [dbTPG[dbTPG.platform.==platform, :tpg_time] ./ dbCodegen[dbCodegen.platform.==platform, :tpg_time] for platform in platforms]\n",
    "p = repeat(games, inner=nbRunPerConfig)\n",
    "\n",
    "b = [box(x=p, y=speedups[i], boxpoints=\"all\", marker_size=2, name=platforms[i]) for i in 1:(size(platforms)[1])]\n",
    "layout = Layout(yaxis_title=\"Speedup\", xaxis_title=\"Game\", boxmode=\"group\", margin=attr(l=10, r=10, b=10, t=10), boxgap=0.2, width=1000)\n",
    "PlotlyJS.plot(b, layout)"
   ]
  },
  {
   "cell_type": "markdown",
   "metadata": {},
   "source": [
    "## Switch vs Stack"
   ]
  },
  {
   "cell_type": "code",
   "execution_count": null,
   "metadata": {},
   "outputs": [],
   "source": [
    "# Filter switch and stack\n",
    "\n",
    "function computeStackVsSwitchSpeedups(dbCodegen=DataFrame, dbTPG=DataFrame)\n",
    "    # Compute Avg Speed up per game per platform\n",
    "    dbSpeedup = DataFrame(platform=String[],\n",
    "        avgSpeedup=Float64[], medianSpeedup=Float64[], maxSpeedup=Float64[], minSpeedup=Float64[])\n",
    "\n",
    "    platSwitch = [\"xeon\", \"laptop\", \"jetson\", \"rpi2\"]\n",
    "    platStack = platSwitch .* \"Stack\"\n",
    "\n",
    "    for platIndex in 1:size(platStack)[1]\n",
    "        entriesStack = dbCodegen[(dbCodegen.platform.==platStack[platIndex]), :]\n",
    "        entriesSwitch = dbCodegen[(dbCodegen.platform.==platSwitch[platIndex]), :]\n",
    "\n",
    "        speedups = ((entriesStack[:, :tpg_time] ./ entriesSwitch[:, :tpg_time]) .- 1) .* 100\n",
    "        speedup_stat = [platSwitch[platIndex], mean(speedups), median(speedups), maximum(speedups), minimum(speedups)]\n",
    "\n",
    "        push!(dbSpeedup, speedup_stat)\n",
    "    end\n",
    "    return dbSpeedup\n",
    "end\n",
    "\n",
    "dbSpeedupStackVsSwitch = computeStackVsSwitchSpeedups(dbCodegen, dbTPG)\n",
    "\n",
    "platSwitch = [\"xeon\", \"laptop\", \"jetson\", \"rpi2\"]\n",
    "switchTime = vcat([dbCodegen[(dbCodegen.platform.==plat), :tpg_time] for plat in platSwitch]...)\n",
    "stackTime = vcat([dbCodegen[(dbCodegen.platform.==plat*\"Stack\"), :tpg_time] for plat in platSwitch]...)\n",
    "\n",
    "speedup = 100 * (stackTime ./ switchTime .- 1)\n",
    "layout = Layout(xaxis_title=\"Speedup Switch vs Stack\", xaxis_ticksuffix=\"%\", margin=attr(l=0, r=0, b=0, t=0), boxgap=0.0, width=450, height=100)\n",
    "b = box(x=speedup, boxpoints=\"all\", name=\"\", marker_size=2)\n",
    "\n",
    "if false\n",
    "    PlotlyJS.savefig(PlotlyJS.plot(b, layout), \"../fig/speedupStackVsSwitch.pdf\", width=450, height=100)\n",
    "end\n",
    "\n",
    "print(\"Average speedup: $(mean(speedup))  NbInferior:$(count(x -> (x < 0), speedup))\")\n",
    "\n",
    "PlotlyJS.plot(b, layout)\n"
   ]
  },
  {
   "cell_type": "markdown",
   "metadata": {},
   "source": [
    "## Time per action"
   ]
  },
  {
   "cell_type": "code",
   "execution_count": null,
   "metadata": {},
   "outputs": [],
   "source": [
    "timePerActionCodegen = DataFrame(platform=dbCodegen[:, :platform], seed=dbCodegen[:, :seed], game=dbCodegen[:, :game], time=dbCodegen[:, :tpg_time] ./ dbCodegen[:, :actions])\n",
    "timePerActionTPG = DataFrame(platform=dbTPG[:, :platform], seed=dbTPG[:, :seed], game=dbTPG[:, :game], time=dbTPG[:, :tpg_time] ./ dbTPG[:, :actions])\n",
    "\n",
    "bC = box(x=timePerActionCodegen[:, :platform], y=timePerActionCodegen[:, :time], boxpoints=\"all\", name=\"Codegen\", marker_size=2)\n",
    "bT = box(x=timePerActionTPG[:, :platform], y=timePerActionTPG[:, :time], boxpoints=\"all\", name=\"Lib\", marker_size=2)\n",
    "layout = Layout(yaxis_title=\"Time per action (log scale)\", yaxis_type=\"log\", yaxis_ticksuffix=\"s\", xaxis_title=\"Platforms\", boxmode=\"group\", margin=attr(l=0, r=0, b=0, t=0), boxgap=0.2, width=1000, legend=attr(x=0.05, y=0.95))\n",
    "\n",
    "\n",
    "if false\n",
    "    PlotlyJS.savefig(PlotlyJS.plot([bC, bT], layout), \"../fig/timePerAction.pdf\", width=500, height=300)\n",
    "end\n",
    "\n",
    "PlotlyJS.plot([bC, bT], layout)\n"
   ]
  },
  {
   "cell_type": "code",
   "execution_count": null,
   "metadata": {},
   "outputs": [],
   "source": [
    "# Compute Relative STD for all groups \n",
    "meanTimesCodegen = [mean(timePerActionCodegen[timePerActionCodegen.platform .== platform, :time]) for platform in platforms]\n",
    "stdTimesCodegen = [std(timePerActionCodegen[timePerActionCodegen.platform .== platform, :time]) for platform in platforms]\n",
    "rstdTimeCodegen = 100* stdTimesCodegen ./ meanTimesCodegen\n",
    "\n",
    "println(\"## Average and relative STD for Per Action inference time.\" )\n",
    "println(meanTimesCodegen)\n",
    "println(rstdTimeCodegen)\n",
    "println(mean(rstdTimeCodegen))\n",
    "\n",
    "meanTimesLib = [mean(timePerActionTPG[timePerActionTPG.platform .== platform, :time]) for platform in platforms]\n",
    "stdTimesLib = [std(timePerActionTPG[timePerActionTPG.platform .== platform, :time]) for platform in platforms]\n",
    "rstdTimeLib = 100* stdTimesLib ./ meanTimesLib\n",
    "\n",
    "println(meanTimesLib)\n",
    "println(rstdTimeLib)\n",
    "println(mean(rstdTimeLib))"
   ]
  },
  {
   "cell_type": "code",
   "execution_count": null,
   "metadata": {},
   "outputs": [],
   "source": [
    "using PlotlyJS\n",
    "\n",
    "\n",
    "data = [PlotlyJS.scatter(x=timePerActionTPG[timePerActionTPG.platform.==platform, :time], y=timePerActionCodegen[timePerActionCodegen.platform.==platform, :time], mode=\"markers\", name=platform)\n",
    "        for platform in platforms]\n",
    "\n",
    "\n",
    "plot = hvcat((2, 2), [\n",
    "        PlotlyJS.plot(\n",
    "                PlotlyJS.scatter(\n",
    "                        x=timePerActionTPG[timePerActionTPG.platform.==platforms[i], :time],\n",
    "                        y=timePerActionCodegen[timePerActionCodegen.platform.==platforms[i], :time],\n",
    "                        mode=\"markers\", name=platforms[i],\n",
    "                ),\n",
    "                Layout(xaxis_ticksuffix=\"s\", xaxis_title=\"Lib\", yaxis_ticksuffix=\"s\", yaxis_title=\"Codegen\")\n",
    "        )\n",
    "        for i in 1:size(platforms)[1]]...\n",
    ")\n",
    "\n",
    "plot.plot.layout[\"width\"] = 1000\n",
    "plot\n"
   ]
  },
  {
   "cell_type": "code",
   "execution_count": null,
   "metadata": {},
   "outputs": [],
   "source": [
    "## All in one plot\n",
    "PlotlyJS.plot(data,\n",
    "    Layout(xaxis_type=\"log\", xaxis_ticksuffix=\"s\", xaxis_title=\"Time Lib (log scale)\", yaxis_type=\"log\", yaxis_ticksuffix=\"s\", yaxis_title=\"Time Codegen (log scale)\", width=1000)\n",
    ")"
   ]
  },
  {
   "cell_type": "markdown",
   "metadata": {},
   "source": [
    "## Time per program"
   ]
  },
  {
   "cell_type": "code",
   "execution_count": null,
   "metadata": {},
   "outputs": [],
   "source": [
    "# Get nb program executed per action\n",
    "nbProgExecPerGame = dbTPGStats[:, :nbProgExec]\n",
    "nbActionsPerGame = dbCodegen[1:size(games)[1]*size(seeds)[1], :actions]\n",
    "\n",
    "nbProgExecPerAction = nbProgExecPerGame ./ nbActionsPerGame\n",
    "\n",
    "# time per prog =  (time per action) / (nb prog per action)\n",
    "timePerProgCodegen = DataFrame(platform=dbCodegen[:, :platform], time=timePerActionCodegen[:, :time] ./ repeat(nbProgExecPerAction, size(platforms)[1]));\n",
    "timePerProgTPG = DataFrame(platform=dbCodegen[:, :platform], time=timePerActionTPG[:, :time] ./ repeat(nbProgExecPerAction, size(platforms)[1]));\n"
   ]
  },
  {
   "cell_type": "code",
   "execution_count": null,
   "metadata": {},
   "outputs": [],
   "source": [
    "# Plot times per prog\n",
    "bC = box(x=timePerProgCodegen[:, :platform], y=timePerProgCodegen[:, :time], boxpoints=\"all\", name=\"Codegen\", marker_size=2)\n",
    "bT = box(x=timePerProgCodegen[:, :platform], y=timePerProgTPG[:, :time], boxpoints=\"all\", name=\"Lib\", marker_size=2)\n",
    "layout = Layout(yaxis_title=\"Time per prog (log scale)\", yaxis_type=\"log\", yaxis_ticksuffix=\"s\", xaxis_title=\"Platforms\", boxmode=\"group\", margin=attr(l=0, r=0, b=0, t=0), boxgap=0.2, width=1000, legend=attr(x=0.05, y=0.95))\n",
    "PlotlyJS.plot([bC, bT], layout)\n",
    "\n",
    "if false\n",
    "    PlotlyJS.savefig(PlotlyJS.plot([bC, bT], layout), \"../fig/timePerProgram.pdf\", width=500, height=300)\n",
    "end\n",
    "\n",
    "PlotlyJS.plot([bC, bT], layout)"
   ]
  },
  {
   "cell_type": "code",
   "execution_count": null,
   "metadata": {},
   "outputs": [],
   "source": [
    "# Compute Relative STD for all groups \n",
    "meanTimesCodegen = [mean(timePerProgCodegen[timePerProgCodegen.platform .== platform, :time]) for platform in platforms]\n",
    "stdTimesCodegen = [std(timePerProgCodegen[timePerProgCodegen.platform .== platform, :time]) for platform in platforms]\n",
    "rstdTimeCodegen = 100* stdTimesCodegen ./ meanTimesCodegen\n",
    "\n",
    "println(\"## Average and relative STD for Per Prog inference time.\" )\n",
    "println(meanTimesCodegen)\n",
    "println(rstdTimeCodegen)\n",
    "println(mean(rstdTimeCodegen))\n",
    "\n",
    "meanTimesLib = [mean(timePerProgTPG[timePerProgTPG.platform .== platform, :time]) for platform in platforms]\n",
    "stdTimesLib = [std(timePerProgTPG[timePerProgTPG.platform .== platform, :time]) for platform in platforms]\n",
    "rstdTimeLib = 100* stdTimesLib ./ meanTimesLib\n",
    "\n",
    "println(meanTimesLib)\n",
    "println(rstdTimeLib)\n",
    "println(mean(rstdTimeLib))"
   ]
  },
  {
   "cell_type": "code",
   "execution_count": null,
   "metadata": {},
   "outputs": [],
   "source": [
    "using PlotlyJS\n",
    "\n",
    "\n",
    "data = [PlotlyJS.scatter(x=timePerProgTPG[timePerProgTPG.platform.==platform, :time], y=timePerProgCodegen[timePerProgCodegen.platform.==platform, :time], mode=\"markers\", name=platform)\n",
    "        for platform in platforms]\n",
    "\n",
    "\n",
    "plot = hvcat((2, 2), [\n",
    "        PlotlyJS.plot(\n",
    "                PlotlyJS.scatter(\n",
    "                        x=timePerProgTPG[timePerProgTPG.platform.==platforms[i], :time],\n",
    "                        y=timePerProgCodegen[timePerProgCodegen.platform.==platforms[i], :time],\n",
    "                        mode=\"markers\", name=platforms[i],\n",
    "                ),\n",
    "                Layout(xaxis_ticksuffix=\"s\", xaxis_title=\"Lib\", yaxis_ticksuffix=\"s\", yaxis_title=\"Codegen\")\n",
    "        )\n",
    "        for i in 1:size(platforms)[1]]...\n",
    ")\n",
    "\n",
    "plot.plot.layout[\"width\"] = 1000\n",
    "plot"
   ]
  },
  {
   "cell_type": "code",
   "execution_count": null,
   "metadata": {},
   "outputs": [],
   "source": [
    "## All in one plot\n",
    "PlotlyJS.plot(data,\n",
    "    Layout(xaxis_type=\"log\", xaxis_ticksuffix=\"s\", xaxis_title=\"Time Lib (log scale)\", yaxis_type=\"log\", yaxis_ticksuffix=\"s\", yaxis_title=\"Time Codegen (log scale)\", width=1000)\n",
    ")"
   ]
  },
  {
   "cell_type": "markdown",
   "metadata": {},
   "source": [
    "## Time per prog line"
   ]
  },
  {
   "cell_type": "code",
   "execution_count": null,
   "metadata": {},
   "outputs": [],
   "source": [
    "# Get avg nb line per prog.\n",
    "avgLinePerProg = dbTPGStats[:, :linePerProgram]\n",
    "\n",
    "# Time per line = (time Per Prog) / (line per prog)\n",
    "# This value could be refined by extracting the number of lines of each program from the dot file, and the number of exec of each program from the raw profiling info.\n",
    "timePerLineTPG = DataFrame(platform=timePerProgTPG[:, :platform], time=timePerProgTPG[:, :time] ./ repeat(avgLinePerProg, size(platforms)[1]))\n",
    "timePerLineCodegen = DataFrame(platform=timePerProgCodegen[:, :platform], time=timePerProgCodegen[:, :time] ./ repeat(avgLinePerProg, size(platforms)[1]));"
   ]
  },
  {
   "cell_type": "code",
   "execution_count": null,
   "metadata": {},
   "outputs": [],
   "source": [
    "# Plot times per line\n",
    "bC = box(x=timePerLineCodegen[:, :platform], y=timePerLineCodegen[:, :time], boxpoints=\"all\", name=\"Codegen\", marker_size=2)\n",
    "bT = box(x=timePerLineCodegen[:, :platform], y=timePerLineTPG[:, :time], boxpoints=\"all\", name=\"Lib\", marker_size=2)\n",
    "layout = Layout(yaxis_title=\"Time per instruction (log scale)\", yaxis_type=\"log\", yaxis_ticksuffix=\"s\", xaxis_title=\"Platforms\", boxmode=\"group\", margin=attr(l=0, r=0, b=0, t=0), boxgap=0.2, width=1000, legend=attr(x=0.05, y=0.95))\n",
    "\n",
    "if false\n",
    "    PlotlyJS.savefig(PlotlyJS.plot([bC, bT], layout), \"../fig/timePerLine.pdf\", width=500, height=300)\n",
    "end\n",
    "\n",
    "\n",
    "PlotlyJS.plot([bC, bT], layout)"
   ]
  },
  {
   "cell_type": "code",
   "execution_count": null,
   "metadata": {},
   "outputs": [],
   "source": [
    "# Compute Relative STD for all groups \n",
    "meanTimesCodegen = [mean(timePerLineCodegen[timePerLineCodegen.platform .== platform, :time]) for platform in platforms]\n",
    "stdTimesCodegen = [std(timePerLineCodegen[timePerLineCodegen.platform .== platform, :time]) for platform in platforms]\n",
    "rstdTimeCodegen = 100* stdTimesCodegen ./ meanTimesCodegen\n",
    "\n",
    "println(\"## Average and relative STD for Per Line inference time.\" )\n",
    "println(meanTimesCodegen)\n",
    "println(rstdTimeCodegen)\n",
    "println(mean(rstdTimeCodegen))\n",
    "\n",
    "meanTimesLib = [mean(timePerLineTPG[timePerLineTPG.platform .== platform, :time]) for platform in platforms]\n",
    "stdTimesLib = [std(timePerLineTPG[timePerLineTPG.platform .== platform, :time]) for platform in platforms]\n",
    "rstdTimeLib = 100* stdTimesLib ./ meanTimesLib\n",
    "\n",
    "println(meanTimesLib)\n",
    "println(rstdTimeLib)\n",
    "println(mean(rstdTimeLib))"
   ]
  },
  {
   "cell_type": "code",
   "execution_count": null,
   "metadata": {},
   "outputs": [],
   "source": [
    "using PlotlyJS\n",
    "\n",
    "\n",
    "data = [PlotlyJS.scatter(x=timePerLineTPG[timePerLineTPG.platform.==platform, :time], y=timePerLineCodegen[timePerLineCodegen.platform.==platform, :time], mode=\"markers\", name=platform)\n",
    "        for platform in platforms]\n",
    "\n",
    "\n",
    "plot = hvcat((2, 2), [\n",
    "        PlotlyJS.plot(\n",
    "                PlotlyJS.scatter(\n",
    "                        x=timePerLineTPG[timePerLineTPG.platform.==platforms[i], :time],\n",
    "                        y=timePerLineCodegen[timePerLineCodegen.platform.==platforms[i], :time],\n",
    "                        mode=\"markers\", name=platforms[i],\n",
    "                ),\n",
    "                Layout(xaxis_ticksuffix=\"s\", xaxis_title=\"Lib\", yaxis_ticksuffix=\"s\", yaxis_title=\"Codegen\")\n",
    "        )\n",
    "        for i in 1:size(platforms)[1]]...\n",
    ")\n",
    "\n",
    "plot.plot.layout[\"width\"] = 1000\n",
    "plot"
   ]
  },
  {
   "cell_type": "code",
   "execution_count": null,
   "metadata": {},
   "outputs": [],
   "source": [
    "PlotlyJS.plot(data,\n",
    "    Layout(xaxis_type=\"log\", xaxis_ticksuffix=\"s\", xaxis_title=\"Time Lib (log scale)\", yaxis_type=\"log\", yaxis_ticksuffix=\"s\", yaxis_title=\"Time Codegen (log scale)\", width=1000)\n",
    ")"
   ]
  }
 ],
 "metadata": {
  "interpreter": {
   "hash": "ac59ebe37160ed0dfa835113d9b8498d9f09ceb179beaac4002f036b9467c963"
  },
  "kernelspec": {
   "display_name": "Julia 1.7.2",
   "language": "julia",
   "name": "julia-1.7"
  },
  "language_info": {
   "file_extension": ".jl",
   "mimetype": "application/julia",
   "name": "julia",
   "version": "1.7.2"
  },
  "orig_nbformat": 4
 },
 "nbformat": 4,
 "nbformat_minor": 2
}
